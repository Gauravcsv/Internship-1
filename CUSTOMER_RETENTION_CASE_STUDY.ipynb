{
 "cells": [
  {
   "cell_type": "code",
   "execution_count": null,
   "id": "02ec3de6",
   "metadata": {},
   "outputs": [],
   "source": [
    "\n",
    "import numpy as np\n",
    "import pandas as pd\n",
    "\n",
    "import matplotlib.pyplot as plt\n",
    "%matplotlib inline\n",
    "import seaborn as sns\n",
    "from sklearn.preprocessing import LabelEncoder\n",
    "import warnings\n",
    "warnings.filterwarnings(\"ignore\")\n"
   ]
  },
  {
   "cell_type": "code",
   "execution_count": null,
   "id": "db2d709b",
   "metadata": {},
   "outputs": [],
   "source": [
    "data = pd.read_excel('customer_retention_dataset.xlsx','datasheet')\n",
    "encoded_data = pd.read_excel('customer_retention_dataset.xlsx','codedsheet')"
   ]
  },
  {
   "cell_type": "code",
   "execution_count": null,
   "id": "6a42b5b4",
   "metadata": {},
   "outputs": [],
   "source": [
    "data.head()"
   ]
  },
  {
   "cell_type": "code",
   "execution_count": null,
   "id": "af5d1deb",
   "metadata": {},
   "outputs": [],
   "source": [
    "data.columns"
   ]
  },
  {
   "cell_type": "code",
   "execution_count": null,
   "id": "8f2ef0bd",
   "metadata": {},
   "outputs": [],
   "source": [
    "columns = ['gender','age','city','pinCode','shoppingSince','shoppingFrequency','internetAccessibility','deviceUsed',\n",
    "           'screenSize','OS', 'browserUsed','channelFirstUsed','loginMode','timeSpentDeciding','paymentMode','cancellingFrequency',\n",
    "          'cancellationReason','contentReadability','similarProductInfo','sellerProductInfo','productInfoClarity','navigationEase',\n",
    "          'loadingProcessingSpeed','userFrienlyInterface','conveninetPaymentMode','timelyFulfilmentTrust','custSupportResponse',\n",
    "          'custPrivacyGuarantee','variousChannelResponses','benefit','enjoy','convenience','returnReplacementPolicy','loyaltyProgramsAccess',\n",
    "          'infoSatisfaction','siteQualitySatisfaction','netBenefitSatisfaction','trust','productSeveralCategory','relevantProductInfo','monetarySavings',\n",
    "          'patronizingConvenience','adventureSense','socialStatus','gratification','roleFulfilment','moneyWorthy','shoppedFrom','easyWebApp',\n",
    "           'visuallyAppealingWebApp','productVariety','completeProductInfo','fastWebApp','reliableWebApp','quickPurchase','paymentOptionsAvailability',\n",
    "           'fastDelivery','custInfoPrivacy','finInfoSecurity','perceivedTrustworthiness','multiChannelAssistance','longLoginTime','longDisplayTime',\n",
    "           'latePriceDeclare','longLoadingTime','limitedPaymentMode','lateDelivery','webAppDesignChange','pageDisruption','webAppEfficiency',\n",
    "           'recommendation']\n",
    "\n",
    "data.columns = columns\n",
    "encoded_data.columns = columns\n",
    "data.head()"
   ]
  },
  {
   "cell_type": "code",
   "execution_count": null,
   "id": "5b3da905",
   "metadata": {},
   "outputs": [],
   "source": [
    "data.info()"
   ]
  },
  {
   "cell_type": "code",
   "execution_count": null,
   "id": "230d3c78",
   "metadata": {},
   "outputs": [],
   "source": [
    "data.isnull().sum()"
   ]
  },
  {
   "cell_type": "code",
   "execution_count": null,
   "id": "cb43867b",
   "metadata": {},
   "outputs": [],
   "source": [
    "sns.heatmap(data.isnull())"
   ]
  },
  {
   "cell_type": "code",
   "execution_count": null,
   "id": "2f216ddd",
   "metadata": {},
   "outputs": [],
   "source": [
    "data.describe(include='object')"
   ]
  },
  {
   "cell_type": "code",
   "execution_count": null,
   "id": "485ae392",
   "metadata": {},
   "outputs": [],
   "source": [
    "data.describe()"
   ]
  },
  {
   "cell_type": "code",
   "execution_count": null,
   "id": "cb8089ec",
   "metadata": {},
   "outputs": [],
   "source": [
    "for i in data.columns:\n",
    "        print(data[i].value_counts())\n",
    "        print('****************************************')"
   ]
  },
  {
   "cell_type": "code",
   "execution_count": null,
   "id": "ec4f5fe4",
   "metadata": {},
   "outputs": [],
   "source": [
    "sns.countplot(data['gender'])\n",
    "plt.title('Gender')\n",
    "print(round(data['gender'].value_counts()/269*100),2)"
   ]
  },
  {
   "cell_type": "code",
   "execution_count": null,
   "id": "39f46c37",
   "metadata": {},
   "outputs": [],
   "source": [
    "!pip install plotly==5.8.2"
   ]
  },
  {
   "cell_type": "code",
   "execution_count": null,
   "id": "c06068e4",
   "metadata": {},
   "outputs": [],
   "source": [
    "import plotly.graph_objects as go\n",
    "from plotly.subplots import make_subplots"
   ]
  },
  {
   "cell_type": "code",
   "execution_count": null,
   "id": "f4e49975",
   "metadata": {},
   "outputs": [],
   "source": [
    "import plotly.express as px"
   ]
  },
  {
   "cell_type": "code",
   "execution_count": null,
   "id": "6f09a4c6",
   "metadata": {},
   "outputs": [],
   "source": [
    "city_count = pd.DataFrame(data['city'].value_counts()).reset_index()\n",
    "city_count.columns = ['city','count']\n",
    "\n",
    "\n",
    "fig = px.bar(city_count, x='city',y='count',\n",
    "           color='city',\n",
    "           title = 'Online Shopping is preferred in which cities?')\n",
    "fig.show(height=200,width=200)"
   ]
  },
  {
   "cell_type": "code",
   "execution_count": null,
   "id": "8ed84239",
   "metadata": {},
   "outputs": [],
   "source": [
    "sns.countplot(data['age'])\n",
    "plt.title('Age')\n",
    "print(round(data['age'].value_counts()/269*100),2)"
   ]
  },
  {
   "cell_type": "code",
   "execution_count": null,
   "id": "0fec1a5d",
   "metadata": {},
   "outputs": [],
   "source": [
    "import seaborn as sns\n",
    "sns.factorplot('gender',kind='count',data=data,hue='age',palette=\"hls\")\n",
    "plt.xticks(rotation=0);"
   ]
  },
  {
   "cell_type": "code",
   "execution_count": null,
   "id": "be51c79a",
   "metadata": {},
   "outputs": [],
   "source": [
    "dataset = data[['age','city','gender']]\n",
    "\n",
    "fig = px.histogram(dataset,x='city',color='gender',title='Online shopping in cities based on Gender:')\n",
    "fig.show()"
   ]
  },
  {
   "cell_type": "code",
   "execution_count": null,
   "id": "53017157",
   "metadata": {},
   "outputs": [],
   "source": [
    "fig = px.histogram(dataset,x='city',color='age',title='Online shopping in cities based on various age groups : ')\n",
    "fig.show()"
   ]
  },
  {
   "cell_type": "code",
   "execution_count": null,
   "id": "94035d22",
   "metadata": {},
   "outputs": [],
   "source": [
    "sns.factorplot('shoppingFrequency',kind='count',data=data,hue='shoppingSince',palette=\"husl\")\n",
    "plt.xticks(rotation=90);"
   ]
  },
  {
   "cell_type": "code",
   "execution_count": null,
   "id": "1c5a69cf",
   "metadata": {},
   "outputs": [],
   "source": [
    "sns.factorplot('shoppingFrequency',kind='count',data=data,hue='internetAccessibility',palette=\"Set2\")\n",
    "plt.xticks(rotation=90);"
   ]
  },
  {
   "cell_type": "code",
   "execution_count": null,
   "id": "6f9bb6ed",
   "metadata": {},
   "outputs": [],
   "source": [
    "sns.factorplot('timeSpentDeciding',kind='count',data=data,hue='paymentMode',palette=\"flare\")\n",
    "plt.xticks(rotation=90);"
   ]
  },
  {
   "cell_type": "code",
   "execution_count": null,
   "id": "61e2c9a4",
   "metadata": {},
   "outputs": [],
   "source": [
    "reasons = pd.DataFrame(data['cancellationReason'].value_counts()).reset_index()\n",
    "reasons.columns = ['Reason','Count']\n",
    "\n",
    "fig = go.Figure(go.Funnelarea(\n",
    "    text = reasons['Reason'],\n",
    "    values = reasons['Count'],\n",
    "    marker = {\"colors\": [\"deepskyblue\", \"lightsalmon\", \"tan\", \"teal\", \"silver\"],\n",
    "                \"line\": {\"color\": [\"wheat\", \"wheat\", \"wheat\", \"wheat\", \"wheat\"], \"width\": [0, 1, 1, 0, 1]}}\n",
    "    ))\n",
    "\n",
    "fig.update_layout(title = 'Reasons for not purchasing any product :',title_x=0.5)\n",
    "fig.show()"
   ]
  },
  {
   "cell_type": "code",
   "execution_count": null,
   "id": "859c4249",
   "metadata": {},
   "outputs": [],
   "source": [
    "fig = px.histogram(data,x='cancellingFrequency',color='cancellationReason',\n",
    "                   color_discrete_map={'Lack of trust':'#FF5722','Promo code not applicable':'#4DD0E1',\n",
    "                                       'Better alternative offer':'#CDDC39','Change in price':'#FFEE58',\n",
    "                                       'No preferred mode of payment':'#004D40'})\n",
    "fig.update_layout(title='How often do people abandon their carts? Reasons:', title_x=0.4)\n",
    "            \n",
    "fig.show()"
   ]
  },
  {
   "cell_type": "code",
   "execution_count": null,
   "id": "95eae22a",
   "metadata": {},
   "outputs": [],
   "source": [
    "fig = px.histogram(data,x='cancellationReason',color='paymentMode')\n",
    "fig.update_layout(title='Payment Mode vs Cancellation Reasons : ', title_x=0.5)\n",
    "            \n",
    "fig.show()"
   ]
  },
  {
   "cell_type": "code",
   "execution_count": null,
   "id": "7f8f5243",
   "metadata": {},
   "outputs": [],
   "source": [
    "sns.factorplot('contentReadability',kind='count',data=data,hue='similarProductInfo',palette=\"crest\")\n",
    "plt.xticks(rotation=90);"
   ]
  },
  {
   "cell_type": "code",
   "execution_count": null,
   "id": "13fa0db6",
   "metadata": {},
   "outputs": [],
   "source": [
    "sns.factorplot('userFrienlyInterface',kind='count',data=data,hue='conveninetPaymentMode',palette=\"rocket_r\")\n",
    "plt.xticks(rotation=90);"
   ]
  },
  {
   "cell_type": "code",
   "execution_count": null,
   "id": "4b23debb",
   "metadata": {},
   "outputs": [],
   "source": [
    "sns.countplot('longLoginTime',data=data,hue='longDisplayTime',palette=\"magma\")\n",
    "plt.xticks(rotation=90);"
   ]
  },
  {
   "cell_type": "code",
   "execution_count": null,
   "id": "592f9045",
   "metadata": {},
   "outputs": [],
   "source": [
    "sns.countplot('limitedPaymentMode',data=data,hue='lateDelivery',palette=\"rocket_r\")\n",
    "plt.xticks(rotation=90);"
   ]
  },
  {
   "cell_type": "code",
   "execution_count": null,
   "id": "6183d3d4",
   "metadata": {},
   "outputs": [],
   "source": [
    "sns.countplot('webAppDesignChange',data=data,hue='pageDisruption',palette=\"viridis\")\n",
    "plt.xticks(rotation=90);"
   ]
  },
  {
   "cell_type": "code",
   "execution_count": null,
   "id": "0216e0cc",
   "metadata": {},
   "outputs": [],
   "source": [
    "sns.factorplot('webAppEfficiency',kind='count',data=data,hue='recommendation',palette=\"rocket_r\")\n",
    "\n",
    "plt.xticks(rotation=90);"
   ]
  },
  {
   "cell_type": "code",
   "execution_count": null,
   "id": "ca7a6643",
   "metadata": {},
   "outputs": [],
   "source": [
    "sns.countplot('paymentOptionsAvailability',data=data,hue='fastDelivery',palette=\"flare\")\n",
    "plt.xticks(rotation=90);"
   ]
  },
  {
   "cell_type": "code",
   "execution_count": null,
   "id": "cfa1efad",
   "metadata": {},
   "outputs": [],
   "source": [
    "categorical=[x for x in data.columns if data[x].dtype==object]\n",
    "continous=[x for x in data.columns if x not in categorical]\n",
    "\n",
    "def value_count(column):\n",
    "    diff_count=len(data[column].value_counts())\n",
    "    if diff_count<5:\n",
    "        plt.figure(figsize=(10,5))\n",
    "    elif diff_count<10:\n",
    "        plt.figure(figsize=(10,6))\n",
    "        plt.xticks(rotation=90)\n",
    "    elif diff_count<20:\n",
    "        plt.figure(figsize=(25,6))\n",
    "        plt.xticks(rotation=90)\n",
    "    else:\n",
    "        plt.figure(figsize=(20,6))\n",
    "        plt.xticks(rotation=90)\n",
    "    sns.countplot(x=column,data=data,orient='v')\n",
    "    plt.show()\n",
    "    \n",
    "    print(round(data[i].value_counts()/269*100),2)"
   ]
  },
  {
   "cell_type": "code",
   "execution_count": null,
   "id": "8eab448e",
   "metadata": {},
   "outputs": [],
   "source": [
    "for i in categorical:\n",
    "    value_count(i)"
   ]
  },
  {
   "cell_type": "code",
   "execution_count": null,
   "id": "4ba82817",
   "metadata": {},
   "outputs": [],
   "source": [
    "df = encoded_data.iloc[:,:47]\n",
    "le = LabelEncoder()\n",
    "df['city'] = le.fit_transform(df['city'])\n",
    "upper_triangle=np.triu(df.corr())\n",
    "corr =df.corr()\n",
    "plt.figure(figsize=(35, 10))\n",
    "\n",
    "sns.heatmap(corr[(corr >= 0.5) | (corr <= -0.4)], \n",
    "            cmap='viridis', vmax=1.0, vmin=-1.0, linewidths=0.1,\n",
    "            annot=True, annot_kws={\"size\": 8}, square=True,mask=upper_triangle);\n",
    "plt.title(\"Correlation between variables: \")"
   ]
  },
  {
   "cell_type": "code",
   "execution_count": null,
   "id": "d359c9ca",
   "metadata": {},
   "outputs": [],
   "source": []
  },
  {
   "cell_type": "code",
   "execution_count": null,
   "id": "20ea862e",
   "metadata": {},
   "outputs": [],
   "source": []
  },
  {
   "cell_type": "code",
   "execution_count": null,
   "id": "9eadd301",
   "metadata": {},
   "outputs": [],
   "source": []
  },
  {
   "cell_type": "code",
   "execution_count": null,
   "id": "11e9fc39",
   "metadata": {},
   "outputs": [],
   "source": []
  }
 ],
 "metadata": {
  "kernelspec": {
   "display_name": "Python 3 (ipykernel)",
   "language": "python",
   "name": "python3"
  },
  "language_info": {
   "codemirror_mode": {
    "name": "ipython",
    "version": 3
   },
   "file_extension": ".py",
   "mimetype": "text/x-python",
   "name": "python",
   "nbconvert_exporter": "python",
   "pygments_lexer": "ipython3",
   "version": "3.9.12"
  }
 },
 "nbformat": 4,
 "nbformat_minor": 5
}
